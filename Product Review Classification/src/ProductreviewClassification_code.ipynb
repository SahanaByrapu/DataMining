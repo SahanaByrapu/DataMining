{
 "cells": [
  {
   "cell_type": "code",
   "execution_count": 1,
   "id": "f5f86621",
   "metadata": {},
   "outputs": [
    {
     "name": "stderr",
     "output_type": "stream",
     "text": [
      "[nltk_data] Downloading package stopwords to\n",
      "[nltk_data]     /Users/SahanaBhargavi/nltk_data...\n",
      "[nltk_data]   Package stopwords is already up-to-date!\n",
      "[nltk_data] Downloading package wordnet to\n",
      "[nltk_data]     /Users/SahanaBhargavi/nltk_data...\n",
      "[nltk_data]   Package wordnet is already up-to-date!\n"
     ]
    }
   ],
   "source": [
    "#Importing the required python libraries\n",
    "import pandas as pd\n",
    "import numpy as np\n",
    "import re\n",
    "import nltk\n",
    "nltk.download('stopwords') \n",
    "nltk.download('wordnet')\n",
    "from nltk.corpus import stopwords\n",
    "from nltk.stem import WordNetLemmatizer\n",
    "\n"
   ]
  },
  {
   "cell_type": "code",
   "execution_count": 19,
   "id": "4f905ae9",
   "metadata": {},
   "outputs": [],
   "source": [
    "#Reading the training data from the Training data file\n",
    "Traindata_df = pd.read_csv('/Users/SahanaBhargavi/Downloads/1643662396_5356944_1567602457_1187546_train_file.dat',\n",
    "                           sep=\"\\t\", header=None, names=[\"score\", \"review\"])\n",
    "\n",
    "\n",
    "#Reading the testing data from the testing data file\n",
    "with open(\"/Users/SahanaBhargavi/Downloads/1643662396_5882766_1567602457_126649_test.dat\") as file: \n",
    "    data = file.readlines()\n",
    " \n",
    "#creating data frame and inserting data read from the test file.\n",
    "Testdata_df=pd.DataFrame(columns=['review'])\n",
    "i=0\n",
    "for line in data:\n",
    "     word = line.split('\\n')[0]\n",
    "     Testdata_df.loc[i]=word\n",
    "     i=i+1"
   ]
  },
  {
   "cell_type": "code",
   "execution_count": 2,
   "id": "4631085f",
   "metadata": {},
   "outputs": [
    {
     "ename": "NameError",
     "evalue": "name 'WordNetLemmatizer' is not defined",
     "output_type": "error",
     "traceback": [
      "\u001b[0;31m---------------------------------------------------------------------------\u001b[0m",
      "\u001b[0;31mNameError\u001b[0m                                 Traceback (most recent call last)",
      "\u001b[0;32m/var/folders/mk/9840zs9s79l6tr84bwtlrzk80000gn/T/ipykernel_62898/3293886319.py\u001b[0m in \u001b[0;36m<module>\u001b[0;34m\u001b[0m\n\u001b[1;32m      1\u001b[0m \u001b[0;31m#Cleaning Data and Text Preprocessing for Training data\u001b[0m\u001b[0;34m\u001b[0m\u001b[0;34m\u001b[0m\u001b[0m\n\u001b[0;32m----> 2\u001b[0;31m \u001b[0mlemmatizer\u001b[0m \u001b[0;34m=\u001b[0m \u001b[0mWordNetLemmatizer\u001b[0m\u001b[0;34m(\u001b[0m\u001b[0;34m)\u001b[0m\u001b[0;34m\u001b[0m\u001b[0;34m\u001b[0m\u001b[0m\n\u001b[0m\u001b[1;32m      3\u001b[0m \u001b[0mpreprocessed_reviews\u001b[0m\u001b[0;34m=\u001b[0m\u001b[0;34m[\u001b[0m\u001b[0;34m]\u001b[0m\u001b[0;34m\u001b[0m\u001b[0;34m\u001b[0m\u001b[0m\n\u001b[1;32m      4\u001b[0m \u001b[0;34m\u001b[0m\u001b[0m\n\u001b[1;32m      5\u001b[0m \u001b[0;32mfor\u001b[0m \u001b[0mtext\u001b[0m \u001b[0;32min\u001b[0m \u001b[0mTraindata_df\u001b[0m\u001b[0;34m[\u001b[0m\u001b[0;34m'review'\u001b[0m\u001b[0;34m]\u001b[0m\u001b[0;34m.\u001b[0m\u001b[0mvalues\u001b[0m\u001b[0;34m:\u001b[0m\u001b[0;34m\u001b[0m\u001b[0;34m\u001b[0m\u001b[0m\n",
      "\u001b[0;31mNameError\u001b[0m: name 'WordNetLemmatizer' is not defined"
     ]
    }
   ],
   "source": [
    "#Cleaning Data and Text Preprocessing for Training data\n",
    "lemmatizer = WordNetLemmatizer() \n",
    "preprocessed_reviews=[]\n",
    "\n",
    "for text in Traindata_df['review'].values:\n",
    "    review_tr = re.sub(\"\\d+\", \"\", str(text))\n",
    "    review_tr = re.sub('[^a-z,A-Z]', ' ', str(text))\n",
    "    review_tr = review_tr.lower()\n",
    "    review_tr = review_tr.split()\n",
    "    review_tr = ' '.join(lemmatizer.lemmatize(word) for word in review_tr\n",
    "                         if not word in set(stopwords.words('english')))\n",
    "    preprocessed_reviews.append(review_tr)"
   ]
  },
  {
   "cell_type": "code",
   "execution_count": 1,
   "id": "2318dfce",
   "metadata": {},
   "outputs": [
    {
     "ename": "NameError",
     "evalue": "name 'preprocessed_reviews' is not defined",
     "output_type": "error",
     "traceback": [
      "\u001b[0;31m---------------------------------------------------------------------------\u001b[0m",
      "\u001b[0;31mNameError\u001b[0m                                 Traceback (most recent call last)",
      "\u001b[0;32m/var/folders/mk/9840zs9s79l6tr84bwtlrzk80000gn/T/ipykernel_62898/1901079709.py\u001b[0m in \u001b[0;36m<module>\u001b[0;34m\u001b[0m\n\u001b[1;32m      2\u001b[0m \u001b[0mtf_idf_vect\u001b[0m \u001b[0;34m=\u001b[0m \u001b[0mTfidfVectorizer\u001b[0m\u001b[0;34m(\u001b[0m \u001b[0mngram_range\u001b[0m\u001b[0;34m=\u001b[0m\u001b[0;34m(\u001b[0m\u001b[0;36m1\u001b[0m\u001b[0;34m,\u001b[0m\u001b[0;36m2\u001b[0m\u001b[0;34m)\u001b[0m\u001b[0;34m,\u001b[0m\u001b[0mmin_df\u001b[0m \u001b[0;34m=\u001b[0m \u001b[0;36m10\u001b[0m\u001b[0;34m,\u001b[0m \u001b[0mmax_features\u001b[0m\u001b[0;34m=\u001b[0m\u001b[0;36m1000\u001b[0m\u001b[0;34m)\u001b[0m\u001b[0;34m\u001b[0m\u001b[0;34m\u001b[0m\u001b[0m\n\u001b[1;32m      3\u001b[0m \u001b[0;34m\u001b[0m\u001b[0m\n\u001b[0;32m----> 4\u001b[0;31m \u001b[0mfinal_tf_idf\u001b[0m\u001b[0;34m=\u001b[0m \u001b[0mtf_idf_vect\u001b[0m\u001b[0;34m.\u001b[0m\u001b[0mfit_transform\u001b[0m\u001b[0;34m(\u001b[0m\u001b[0mpreprocessed_reviews\u001b[0m\u001b[0;34m)\u001b[0m\u001b[0;34m\u001b[0m\u001b[0;34m\u001b[0m\u001b[0m\n\u001b[0m\u001b[1;32m      5\u001b[0m \u001b[0mTfidf_train_df\u001b[0m \u001b[0;34m=\u001b[0m \u001b[0mpd\u001b[0m\u001b[0;34m.\u001b[0m\u001b[0mDataFrame\u001b[0m\u001b[0;34m(\u001b[0m\u001b[0mfinal_tf_idf\u001b[0m\u001b[0;34m.\u001b[0m\u001b[0mtoarray\u001b[0m\u001b[0;34m(\u001b[0m\u001b[0;34m)\u001b[0m\u001b[0;34m,\u001b[0m\u001b[0mcolumns\u001b[0m\u001b[0;34m=\u001b[0m\u001b[0mtf_idf_vect\u001b[0m\u001b[0;34m.\u001b[0m\u001b[0mget_feature_names\u001b[0m\u001b[0;34m(\u001b[0m\u001b[0;34m)\u001b[0m\u001b[0;34m)\u001b[0m\u001b[0;34m\u001b[0m\u001b[0;34m\u001b[0m\u001b[0m\n\u001b[1;32m      6\u001b[0m \u001b[0mTfidf_train_df\u001b[0m\u001b[0;34m\u001b[0m\u001b[0;34m\u001b[0m\u001b[0m\n",
      "\u001b[0;31mNameError\u001b[0m: name 'preprocessed_reviews' is not defined"
     ]
    }
   ],
   "source": [
    "from sklearn.feature_extraction.text import TfidfVectorizer\n",
    "tf_idf_vect = TfidfVectorizer( ngram_range=(1,2),min_df = 10, max_features=1000) \n",
    "\n",
    "final_tf_idf= tf_idf_vect.fit_transform(preprocessed_reviews)\n",
    "Tfidf_train_df = pd.DataFrame(final_tf_idf.toarray(),columns=tf_idf_vect.get_feature_names())\n",
    "Tfidf_train_df\n"
   ]
  },
  {
   "cell_type": "code",
   "execution_count": 12,
   "id": "d55e0ef2",
   "metadata": {},
   "outputs": [
    {
     "data": {
      "text/plain": [
       "LogisticRegression()"
      ]
     },
     "execution_count": 12,
     "metadata": {},
     "output_type": "execute_result"
    }
   ],
   "source": [
    "#Implementing Logistic Regression model\n",
    "from sklearn.linear_model import LogisticRegression \n",
    "from sklearn.model_selection import train_test_split\n",
    "import warnings\n",
    "x_train, x_test, y_train, y_test = train_test_split(Tfidf_train_df, Traindata_df['score'], \n",
    "                                                    random_state = 0 , test_size = 0.25 ) \n",
    "model = LogisticRegression()\n",
    "model.fit(x_train, y_train)\n",
    "model"
   ]
  },
  {
   "cell_type": "code",
   "execution_count": 13,
   "id": "3419b10d",
   "metadata": {},
   "outputs": [
    {
     "name": "stdout",
     "output_type": "stream",
     "text": [
      "0.8729198184568835\n"
     ]
    }
   ],
   "source": [
    "#displaying accuracy score for the implemented model \n",
    "from sklearn.metrics import accuracy_score\n",
    "y_pred = model.predict(x_test)\n",
    "print(accuracy_score(y_test, y_pred))\n"
   ]
  },
  {
   "cell_type": "code",
   "execution_count": 14,
   "id": "2dfcd0a7",
   "metadata": {},
   "outputs": [],
   "source": [
    "##Cleaning Data and Text Preprocessing for Training data\n",
    "lemmatizer = WordNetLemmatizer() \n",
    "preprocessed_test_reviews = []\n",
    "for text in Testdata_df.values:\n",
    "    review_tst = re.sub(\"\\d+\", \"\", str(text))\n",
    "    review_tst = re.sub('[^a-z,A-Z]', ' ', str(text))\n",
    "    review_tst = review_tst.lower()\n",
    "    review_tst = review_tst.split()\n",
    "    review_tst = ' '.join(lemmatizer.lemmatize(word) for word in review_tst \n",
    "                          if not word in set(stopwords.words('english')))\n",
    "    preprocessed_test_reviews.append(review_tst)"
   ]
  },
  {
   "cell_type": "code",
   "execution_count": null,
   "id": "627b520e",
   "metadata": {},
   "outputs": [],
   "source": [
    "tf_idf_vect_test = TfidfVectorizer(ngram_range=(1,2), min_df=10,max_features=1000)\n",
    "\n",
    "final_test_tf_idf = tf_idf_vect_test.fit_transform(preprocessed_test_reviews)\n",
    "\n",
    "Tfidf_test_df=pd.DataFrame(final_test_tf_idf.toarray(),columns=tf_idf_vect_test.get_feature_names())\n",
    "\n",
    "Tfidf_test_df"
   ]
  },
  {
   "cell_type": "code",
   "execution_count": null,
   "id": "f5bfab50",
   "metadata": {},
   "outputs": [],
   "source": [
    "#predicting the categories for the processed test data\n",
    "y_pred = model.predict(Tfidf_test_df)"
   ]
  },
  {
   "cell_type": "code",
   "execution_count": null,
   "id": "0ae006a2",
   "metadata": {},
   "outputs": [],
   "source": [
    "#writing final predicted data into the output file\n",
    "with open(\"test12.dat\", \"w\") as a_file:\n",
    "    for i in range(len(y_pred1)):\n",
    "        a_file.write(str(y_pred1[i])) \n",
    "        a_file.write('\\n')"
   ]
  },
  {
   "cell_type": "code",
   "execution_count": null,
   "id": "d24cc255",
   "metadata": {},
   "outputs": [],
   "source": []
  }
 ],
 "metadata": {
  "kernelspec": {
   "display_name": "Python 3 (ipykernel)",
   "language": "python",
   "name": "python3"
  },
  "language_info": {
   "codemirror_mode": {
    "name": "ipython",
    "version": 3
   },
   "file_extension": ".py",
   "mimetype": "text/x-python",
   "name": "python",
   "nbconvert_exporter": "python",
   "pygments_lexer": "ipython3",
   "version": "3.9.7"
  }
 },
 "nbformat": 4,
 "nbformat_minor": 5
}
